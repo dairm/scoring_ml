{
 "cells": [
  {
   "cell_type": "code",
   "execution_count": 1,
   "metadata": {
    "collapsed": true
   },
   "outputs": [],
   "source": [
    "from sklearn import cross_validation, linear_model, metrics, preprocessing, ensemble, learning_curve\n",
    "\n",
    "import numpy as np\n",
    "import pandas as pd"
   ]
  },
  {
   "cell_type": "code",
   "execution_count": 2,
   "metadata": {
    "collapsed": false
   },
   "outputs": [
    {
     "name": "stdout",
     "output_type": "stream",
     "text": [
      "Populating the interactive namespace from numpy and matplotlib\n"
     ]
    }
   ],
   "source": [
    "%pylab inline"
   ]
  },
  {
   "cell_type": "code",
   "execution_count": 3,
   "metadata": {
    "collapsed": false
   },
   "outputs": [],
   "source": [
    "raw_data = pd.read_csv('sample.csv', header = 0, sep = ';')"
   ]
  },
  {
   "cell_type": "code",
   "execution_count": 4,
   "metadata": {
    "collapsed": false
   },
   "outputs": [
    {
     "data": {
      "text/html": [
       "<div>\n",
       "<table border=\"1\" class=\"dataframe\">\n",
       "  <thead>\n",
       "    <tr style=\"text-align: right;\">\n",
       "      <th></th>\n",
       "      <th>ID_CLIENT</th>\n",
       "      <th>FLAG_IPOTEKA</th>\n",
       "      <th>INCOME</th>\n",
       "      <th>GENDER</th>\n",
       "      <th>CHILD_COUNT</th>\n",
       "      <th>HAS_FLAT</th>\n",
       "      <th>AGE</th>\n",
       "      <th>FLAG_FOREIGN_PASSPORT</th>\n",
       "      <th>EDUCATION</th>\n",
       "      <th>TRANSPORT_AMOUNT</th>\n",
       "      <th>target_bin</th>\n",
       "      <th>Target_amt</th>\n",
       "    </tr>\n",
       "  </thead>\n",
       "  <tbody>\n",
       "    <tr>\n",
       "      <th>0</th>\n",
       "      <td>ID_1082</td>\n",
       "      <td>0</td>\n",
       "      <td>41672.965684</td>\n",
       "      <td>0</td>\n",
       "      <td>1</td>\n",
       "      <td>1</td>\n",
       "      <td>35.0</td>\n",
       "      <td>0</td>\n",
       "      <td>3</td>\n",
       "      <td>0</td>\n",
       "      <td>0</td>\n",
       "      <td>0</td>\n",
       "    </tr>\n",
       "    <tr>\n",
       "      <th>1</th>\n",
       "      <td>ID_1083</td>\n",
       "      <td>0</td>\n",
       "      <td>229000.507661</td>\n",
       "      <td>1</td>\n",
       "      <td>0</td>\n",
       "      <td>1</td>\n",
       "      <td>37.0</td>\n",
       "      <td>1</td>\n",
       "      <td>3</td>\n",
       "      <td>2</td>\n",
       "      <td>0</td>\n",
       "      <td>0</td>\n",
       "    </tr>\n",
       "    <tr>\n",
       "      <th>2</th>\n",
       "      <td>ID_1084</td>\n",
       "      <td>0</td>\n",
       "      <td>68015.394422</td>\n",
       "      <td>0</td>\n",
       "      <td>1</td>\n",
       "      <td>1</td>\n",
       "      <td>29.0</td>\n",
       "      <td>1</td>\n",
       "      <td>3</td>\n",
       "      <td>1</td>\n",
       "      <td>0</td>\n",
       "      <td>0</td>\n",
       "    </tr>\n",
       "    <tr>\n",
       "      <th>3</th>\n",
       "      <td>ID_1085</td>\n",
       "      <td>0</td>\n",
       "      <td>67267.075917</td>\n",
       "      <td>1</td>\n",
       "      <td>1</td>\n",
       "      <td>1</td>\n",
       "      <td>55.0</td>\n",
       "      <td>0</td>\n",
       "      <td>4</td>\n",
       "      <td>2</td>\n",
       "      <td>0</td>\n",
       "      <td>0</td>\n",
       "    </tr>\n",
       "    <tr>\n",
       "      <th>4</th>\n",
       "      <td>ID_1086</td>\n",
       "      <td>0</td>\n",
       "      <td>71000.578632</td>\n",
       "      <td>0</td>\n",
       "      <td>1</td>\n",
       "      <td>0</td>\n",
       "      <td>72.0</td>\n",
       "      <td>1</td>\n",
       "      <td>3</td>\n",
       "      <td>1</td>\n",
       "      <td>0</td>\n",
       "      <td>0</td>\n",
       "    </tr>\n",
       "  </tbody>\n",
       "</table>\n",
       "</div>"
      ],
      "text/plain": [
       "  ID_CLIENT  FLAG_IPOTEKA        INCOME   GENDER  CHILD_COUNT  HAS_FLAT   AGE  \\\n",
       "0   ID_1082             0   41672.965684       0            1         1  35.0   \n",
       "1   ID_1083             0  229000.507661       1            0         1  37.0   \n",
       "2   ID_1084             0   68015.394422       0            1         1  29.0   \n",
       "3   ID_1085             0   67267.075917       1            1         1  55.0   \n",
       "4   ID_1086             0   71000.578632       0            1         0  72.0   \n",
       "\n",
       "   FLAG_FOREIGN_PASSPORT  EDUCATION  TRANSPORT_AMOUNT  target_bin  Target_amt  \n",
       "0                      0          3                 0           0           0  \n",
       "1                      1          3                 2           0           0  \n",
       "2                      1          3                 1           0           0  \n",
       "3                      0          4                 2           0           0  \n",
       "4                      1          3                 1           0           0  "
      ]
     },
     "execution_count": 4,
     "metadata": {},
     "output_type": "execute_result"
    }
   ],
   "source": [
    "raw_data.head()"
   ]
  },
  {
   "cell_type": "code",
   "execution_count": 5,
   "metadata": {
    "collapsed": false
   },
   "outputs": [
    {
     "data": {
      "text/plain": [
       "True"
      ]
     },
     "execution_count": 5,
     "metadata": {},
     "output_type": "execute_result"
    }
   ],
   "source": [
    "raw_data.isnull().values.any()"
   ]
  },
  {
   "cell_type": "code",
   "execution_count": 6,
   "metadata": {
    "collapsed": false
   },
   "outputs": [],
   "source": [
    "X = raw_data.drop('target_bin',1).drop('Target_amt',1)\n",
    "y1 = raw_data.target_bin"
   ]
  },
  {
   "cell_type": "code",
   "execution_count": 7,
   "metadata": {
    "collapsed": false
   },
   "outputs": [],
   "source": [
    "X = X.fillna(0)"
   ]
  },
  {
   "cell_type": "markdown",
   "metadata": {},
   "source": [
    "Задание 1.\n",
    "Разделим нашу выборку на обучающую и тестовую. Перемешаем выборку и стратифицируем(сохраним отношение классов в целевой переменной). Тестовую выборку используем для проверки качества"
   ]
  },
  {
   "cell_type": "code",
   "execution_count": 8,
   "metadata": {
    "collapsed": false
   },
   "outputs": [],
   "source": [
    "train_data, test_data, train_labels, test_labels = cross_validation.train_test_split(X, y1,  \n",
    "                                                                                     test_size = 0.3,stratify = y1)"
   ]
  },
  {
   "cell_type": "markdown",
   "metadata": {},
   "source": [
    "Отмасштабируем наши данные, нормализовав их"
   ]
  },
  {
   "cell_type": "code",
   "execution_count": 9,
   "metadata": {
    "collapsed": false
   },
   "outputs": [],
   "source": [
    "#масштабируем\n",
    "from sklearn.preprocessing import StandardScaler\n",
    "\n",
    "encoder = StandardScaler()\n",
    "train_data_scaled = encoder.fit_transform(train_data.drop('ID_CLIENT',1))\n",
    "test_data_scaled = encoder.transform(test_data.drop('ID_CLIENT',1))"
   ]
  },
  {
   "cell_type": "code",
   "execution_count": 13,
   "metadata": {
    "collapsed": false
   },
   "outputs": [],
   "source": [
    "ridge_classifier = linear_model.RidgeClassifier(random_state = 1)\n",
    "ridge_classifier.fit(train_data_scaled, train_labels)\n",
    "ridge_predictions = ridge_classifier.predict(test_data_scaled)"
   ]
  },
  {
   "cell_type": "code",
   "execution_count": 16,
   "metadata": {
    "collapsed": false
   },
   "outputs": [
    {
     "name": "stdout",
     "output_type": "stream",
     "text": [
      "0.663703703704\n"
     ]
    }
   ],
   "source": [
    "print metrics.f1_score(test_labels, ridge_predictions)"
   ]
  },
  {
   "cell_type": "code",
   "execution_count": 19,
   "metadata": {
    "collapsed": false
   },
   "outputs": [
    {
     "name": "stdout",
     "output_type": "stream",
     "text": [
      "0.650231124807\n"
     ]
    }
   ],
   "source": [
    "print metrics.accuracy_score(test_labels, ridge_predictions)"
   ]
  },
  {
   "cell_type": "code",
   "execution_count": 17,
   "metadata": {
    "collapsed": false
   },
   "outputs": [],
   "source": [
    "log_regressor = linear_model.LogisticRegression(random_state = 1)\n",
    "log_regressor.fit(train_data_scaled, train_labels)\n",
    "lr_predictions = log_regressor.predict(test_data_scaled)"
   ]
  },
  {
   "cell_type": "code",
   "execution_count": 18,
   "metadata": {
    "collapsed": false
   },
   "outputs": [
    {
     "name": "stdout",
     "output_type": "stream",
     "text": [
      "0.660740740741\n"
     ]
    }
   ],
   "source": [
    "print metrics.f1_score(test_labels, lr_predictions)"
   ]
  },
  {
   "cell_type": "code",
   "execution_count": 20,
   "metadata": {
    "collapsed": false
   },
   "outputs": [
    {
     "name": "stdout",
     "output_type": "stream",
     "text": [
      "0.647149460709\n"
     ]
    }
   ],
   "source": [
    "print metrics.accuracy_score(test_labels, lr_predictions)"
   ]
  },
  {
   "cell_type": "markdown",
   "metadata": {},
   "source": [
    "Rigde классификатор работает лучше в данном случае. Проверим не переобучили ли мы модель"
   ]
  },
  {
   "cell_type": "code",
   "execution_count": 24,
   "metadata": {
    "collapsed": false
   },
   "outputs": [
    {
     "name": "stdout",
     "output_type": "stream",
     "text": [
      "[[ 0.01239593 -0.02616777  0.12330718 -0.09406971 -0.10328783  0.00541051\n",
      "  -0.11322513  0.13380398 -0.09548359]]\n",
      "0.63143989432\n"
     ]
    }
   ],
   "source": [
    "print ridge_classifier.coef_\n",
    "rg = ridge_classifier.predict(train_data_scaled)\n",
    "print metrics.accuracy_score(train_labels, rg)"
   ]
  },
  {
   "cell_type": "markdown",
   "metadata": {},
   "source": [
    "Модель не переобучена, так как веса по модулю не большие и качество на тренировочной выборке близок к качеству на тестовой"
   ]
  },
  {
   "cell_type": "markdown",
   "metadata": {},
   "source": [
    "Задание 2.\n",
    "Построим модель для интервальной целевой переменной"
   ]
  },
  {
   "cell_type": "markdown",
   "metadata": {},
   "source": [
    "Целевая переменная у нас интервальная, разобьем ее на несколько классов "
   ]
  },
  {
   "cell_type": "code",
   "execution_count": 25,
   "metadata": {
    "collapsed": false
   },
   "outputs": [],
   "source": [
    "y2 = raw_data.Target_amt.values"
   ]
  },
  {
   "cell_type": "code",
   "execution_count": 27,
   "metadata": {
    "collapsed": false
   },
   "outputs": [],
   "source": [
    "for i in range(len(y2)):\n",
    "    if(i>=1000):\n",
    "        y2[i] = y2[i]/1000"
   ]
  },
  {
   "cell_type": "code",
   "execution_count": 28,
   "metadata": {
    "collapsed": false
   },
   "outputs": [
    {
     "data": {
      "text/plain": [
       "array([0, 0, 0, ..., 5, 1, 5], dtype=int64)"
      ]
     },
     "execution_count": 28,
     "metadata": {},
     "output_type": "execute_result"
    }
   ],
   "source": [
    "y2"
   ]
  },
  {
   "cell_type": "code",
   "execution_count": 29,
   "metadata": {
    "collapsed": false
   },
   "outputs": [],
   "source": [
    "train_data2, test_data2, train_labels2, test_labels2 = cross_validation.train_test_split(X, y2, \n",
    "                                                                                         test_size = 0.3, stratify = y2)"
   ]
  },
  {
   "cell_type": "code",
   "execution_count": 30,
   "metadata": {
    "collapsed": false
   },
   "outputs": [
    {
     "data": {
      "text/plain": [
       "<matplotlib.text.Text at 0x9b01570>"
      ]
     },
     "execution_count": 30,
     "metadata": {},
     "output_type": "execute_result"
    },
    {
     "data": {
      "image/png": "[encoded data removed]",
      "text/plain": [
       "<matplotlib.figure.Figure at 0x991f330>"
      ]
     },
     "metadata": {},
     "output_type": "display_data"
    }
   ],
   "source": [
    "pylab.figure(figsize = (16, 6))\n",
    "\n",
    "pylab.subplot(1,2,1)\n",
    "pylab.hist(train_labels2)\n",
    "pylab.title('train data')\n",
    "\n",
    "pylab.subplot(1,2,2)\n",
    "pylab.hist(test_labels2)\n",
    "pylab.title('test data')"
   ]
  },
  {
   "cell_type": "code",
   "execution_count": 31,
   "metadata": {
    "collapsed": false
   },
   "outputs": [],
   "source": [
    "#масштабируем\n",
    "encoder2 = StandardScaler()\n",
    "train_data_scaled2 = encoder2.fit_transform(train_data2.drop('ID_CLIENT',1))\n",
    "test_data_scaled2 = encoder2.transform(test_data2.drop('ID_CLIENT',1))"
   ]
  },
  {
   "cell_type": "markdown",
   "metadata": {},
   "source": [
    "Классов у нас получилось 10, воспользуемся для начала случайным лесом, потому что он обычно не переобучается.\n",
    "Так как на графике видно, что выборка у нас не сбалансирована то добавим балансировку в метод.  "
   ]
  },
  {
   "cell_type": "code",
   "execution_count": 40,
   "metadata": {
    "collapsed": true
   },
   "outputs": [],
   "source": [
    "rf_classifier = ensemble.RandomForestClassifier(n_estimators = 50, max_depth = 20, random_state = 1, class_weight = 'balanced')"
   ]
  },
  {
   "cell_type": "code",
   "execution_count": 41,
   "metadata": {
    "collapsed": false
   },
   "outputs": [],
   "source": [
    "train_sizes, train_scores, test_scores=learning_curve.learning_curve(rf_classifier, train_data_scaled2, train_labels2, \n",
    "                                                                     train_sizes=np.arange(0.1,1., 0.2), cv=10, scoring='mean_absolute_error')"
   ]
  },
  {
   "cell_type": "code",
   "execution_count": 42,
   "metadata": {
    "collapsed": false
   },
   "outputs": [
    {
     "name": "stdout",
     "output_type": "stream",
     "text": [
      "[ 135  407  679  950 1222]\n",
      "[ 0.          0.         -0.00073638  0.         -0.00278232]\n",
      "[-2.66664878 -2.60785484 -2.6139851  -2.59582806 -2.63738143]\n"
     ]
    }
   ],
   "source": [
    "print train_sizes\n",
    "print train_scores.mean(axis = 1)\n",
    "print test_scores.mean(axis = 1)"
   ]
  },
  {
   "cell_type": "code",
   "execution_count": 43,
   "metadata": {
    "collapsed": false
   },
   "outputs": [
    {
     "data": {
      "text/plain": [
       "RandomForestClassifier(bootstrap=True, class_weight='balanced',\n",
       "            criterion='gini', max_depth=20, max_features='auto',\n",
       "            max_leaf_nodes=None, min_samples_leaf=1, min_samples_split=2,\n",
       "            min_weight_fraction_leaf=0.0, n_estimators=50, n_jobs=1,\n",
       "            oob_score=False, random_state=1, verbose=0, warm_start=False)"
      ]
     },
     "execution_count": 43,
     "metadata": {},
     "output_type": "execute_result"
    }
   ],
   "source": [
    "rf_classifier.fit(train_data_scaled2,train_labels2)"
   ]
  },
  {
   "cell_type": "code",
   "execution_count": 44,
   "metadata": {
    "collapsed": true
   },
   "outputs": [],
   "source": [
    "rf_predictions2 = rf_classifier.predict(test_data_scaled2)"
   ]
  },
  {
   "cell_type": "code",
   "execution_count": 91,
   "metadata": {
    "collapsed": false
   },
   "outputs": [
    {
     "name": "stdout",
     "output_type": "stream",
     "text": [
      "[[271   8   3   6   6   6   4   6   6   8]\n",
      " [ 25   0   1   2   0   1   0   0   3   1]\n",
      " [ 21   1   0   1   2   1   0   1   1   6]\n",
      " [ 26   2   0   3   1   1   1   1   2   2]\n",
      " [ 20   3   0   1   2   1   1   5   1   1]\n",
      " [ 21   2   1   0   2   2   0   2   2   3]\n",
      " [ 25   1   1   0   2   1   0   1   2   4]\n",
      " [ 21   2   1   5   2   0   1   1   0   3]\n",
      " [ 21   1   0   0   2   2   2   5   2   2]\n",
      " [ 26   1   4   0   1   3   2   1   1   0]]\n"
     ]
    }
   ],
   "source": [
    "print metrics.confusion_matrix(test_labels2, rf_predictions2)"
   ]
  },
  {
   "cell_type": "code",
   "execution_count": 55,
   "metadata": {
    "collapsed": false
   },
   "outputs": [
    {
     "data": {
      "text/plain": [
       "array([0, 0, 0, 6, 0, 0, 4, 0, 3, 0, 0, 3, 3, 0, 0, 0, 0, 0, 2, 9, 0, 0, 0,\n",
       "       0, 7, 0, 0, 9, 9, 5, 0, 0, 0, 0, 0, 8, 0, 0, 0, 0, 0, 0, 0, 0, 0, 3,\n",
       "       0, 1, 5, 0, 0, 0, 0, 0, 7, 0, 0, 0, 0, 0, 0, 0, 0, 0, 0, 0, 0, 0, 0,\n",
       "       0, 4, 3, 6, 1, 0, 0, 1, 0, 0, 0, 0, 0, 0, 0, 0, 0, 0, 0, 0, 0, 9, 0,\n",
       "       0, 0, 7, 8, 0, 0, 0, 4], dtype=int64)"
      ]
     },
     "execution_count": 55,
     "metadata": {},
     "output_type": "execute_result"
    }
   ],
   "source": [
    "rf_predictions2[:100]"
   ]
  },
  {
   "cell_type": "code",
   "execution_count": 56,
   "metadata": {
    "collapsed": false
   },
   "outputs": [
    {
     "data": {
      "text/plain": [
       "array([3, 0, 1, 8, 0, 0, 7, 0, 7, 5, 0, 1, 7, 0, 5, 0, 0, 9, 7, 0, 7, 0, 0,\n",
       "       0, 0, 5, 0, 2, 2, 0, 5, 0, 0, 0, 1, 0, 0, 0, 0, 0, 0, 3, 4, 0, 4, 7,\n",
       "       5, 0, 0, 9, 3, 3, 3, 8, 8, 0, 1, 0, 0, 6, 4, 8, 0, 9, 0, 6, 0, 0, 8,\n",
       "       0, 9, 7, 0, 0, 6, 8, 2, 0, 0, 4, 9, 0, 0, 4, 0, 0, 3, 0, 0, 0, 5, 0,\n",
       "       1, 0, 4, 6, 5, 0, 2, 6], dtype=int64)"
      ]
     },
     "execution_count": 56,
     "metadata": {},
     "output_type": "execute_result"
    }
   ],
   "source": [
    "test_labels2[:100]"
   ]
  },
  {
   "cell_type": "code",
   "execution_count": 74,
   "metadata": {
    "collapsed": true
   },
   "outputs": [],
   "source": [
    "from sklearn.ensemble import GradientBoostingRegressor as XGB"
   ]
  },
  {
   "cell_type": "code",
   "execution_count": 93,
   "metadata": {
    "collapsed": false
   },
   "outputs": [
    {
     "data": {
      "text/plain": [
       "GradientBoostingRegressor(alpha=0.1, init=None, learning_rate=0.1, loss='ls',\n",
       "             max_depth=3, max_features=None, max_leaf_nodes=None,\n",
       "             min_samples_leaf=1, min_samples_split=2,\n",
       "             min_weight_fraction_leaf=0.0, n_estimators=100,\n",
       "             presort='auto', random_state=None, subsample=1.0, verbose=0,\n",
       "             warm_start=False)"
      ]
     },
     "execution_count": 93,
     "metadata": {},
     "output_type": "execute_result"
    }
   ],
   "source": [
    "clss = XGB(alpha=0.1)\n",
    "clss.fit(train_data_scaled2,train_labels2)"
   ]
  },
  {
   "cell_type": "code",
   "execution_count": 94,
   "metadata": {
    "collapsed": false
   },
   "outputs": [
    {
     "name": "stdout",
     "output_type": "stream",
     "text": [
      "2.61413878905\n"
     ]
    }
   ],
   "source": [
    "print metrics.mean_absolute_error(test_labels2, clss.predict(test_data_scaled2))"
   ]
  },
  {
   "cell_type": "code",
   "execution_count": 92,
   "metadata": {
    "collapsed": false
   },
   "outputs": [
    {
     "data": {
      "text/plain": [
       "array([[258,  16,   1,   3,  37,   0,   1,   0,   8,   0],\n",
       "       [ 22,   2,   0,   0,   9,   0,   0,   0,   0,   0],\n",
       "       [ 19,   2,   0,   0,   9,   0,   0,   0,   3,   1],\n",
       "       [ 20,   3,   0,   1,  13,   0,   0,   0,   2,   0],\n",
       "       [ 24,   0,   0,   0,   9,   0,   1,   0,   1,   0],\n",
       "       [ 19,   4,   0,   0,   9,   0,   0,   0,   3,   0],\n",
       "       [ 25,   1,   0,   0,   8,   0,   0,   0,   1,   2],\n",
       "       [ 23,   1,   1,   0,   8,   0,   0,   0,   3,   0],\n",
       "       [ 25,   2,   0,   0,   8,   0,   1,   0,   0,   1],\n",
       "       [ 23,   4,   1,   1,   6,   0,   1,   0,   2,   1]])"
      ]
     },
     "execution_count": 92,
     "metadata": {},
     "output_type": "execute_result"
    }
   ],
   "source": [
    "from sklearn.naive_bayes import GaussianNB\n",
    "model = GaussianNB()\n",
    "model.fit(train_data_scaled2, train_labels2)\n",
    "\n",
    "metrics.confusion_matrix(test_labels2, model.predict(test_data_scaled2))"
   ]
  },
  {
   "cell_type": "code",
   "execution_count": 95,
   "metadata": {
    "collapsed": false
   },
   "outputs": [
    {
     "name": "stdout",
     "output_type": "stream",
     "text": [
      "2.48228043143\n"
     ]
    }
   ],
   "source": [
    "print metrics.mean_absolute_error(test_labels2, model.predict(test_data_scaled2))"
   ]
  },
  {
   "cell_type": "code",
   "execution_count": 96,
   "metadata": {
    "collapsed": false
   },
   "outputs": [
    {
     "data": {
      "text/plain": [
       "array([[629,  27,   1,   6,  72,   0,   4,   0,  15,   3],\n",
       "       [ 48,   5,   0,   0,  16,   0,   0,   0,   9,   0],\n",
       "       [ 47,   3,   0,   0,  23,   0,   0,   0,   4,   1],\n",
       "       [ 56,   7,   0,   0,  23,   0,   0,   0,   4,   1],\n",
       "       [ 42,   6,   0,   1,  27,   0,   0,   0,   5,   0],\n",
       "       [ 52,   5,   0,   0,  20,   0,   0,   0,   2,   1],\n",
       "       [ 59,   6,   1,   1,  13,   0,   1,   0,   4,   1],\n",
       "       [ 53,   4,   0,   0,  26,   0,   0,   0,   2,   0],\n",
       "       [ 54,   4,   0,   2,  18,   0,   0,   0,   6,   2],\n",
       "       [ 54,   3,   0,   1,  29,   0,   1,   0,   3,   1]])"
      ]
     },
     "execution_count": 96,
     "metadata": {},
     "output_type": "execute_result"
    }
   ],
   "source": [
    "metrics.confusion_matrix(train_labels2, model.predict(train_data_scaled2))"
   ]
  },
  {
   "cell_type": "markdown",
   "metadata": {},
   "source": [
    "Байесовский классификатор работает немного стабильней и точнее остальных и явно не переобучен это видно по матрице ошибок"
   ]
  },
  {
   "cell_type": "code",
   "execution_count": null,
   "metadata": {
    "collapsed": true
   },
   "outputs": [],
   "source": []
  }
 ],
 "metadata": {
  "anaconda-cloud": {},
  "kernelspec": {
   "display_name": "Python [Root]",
   "language": "python",
   "name": "Python [Root]"
  },
  "language_info": {
   "codemirror_mode": {
    "name": "ipython",
    "version": 2
   },
   "file_extension": ".py",
   "mimetype": "text/x-python",
   "name": "python",
   "nbconvert_exporter": "python",
   "pygments_lexer": "ipython2",
   "version": "2.7.12"
  }
 },
 "nbformat": 4,
 "nbformat_minor": 0
}
